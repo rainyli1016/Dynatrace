{
 "cells": [
  {
   "cell_type": "code",
   "execution_count": 1,
   "metadata": {},
   "outputs": [
    {
     "name": "stdout",
     "output_type": "stream",
     "text": [
      "Requirement already satisfied: selenium in c:\\users\\rainy.li\\anaconda3\\lib\\site-packages (3.141.0)\n",
      "Requirement already satisfied: urllib3 in c:\\users\\rainy.li\\anaconda3\\lib\\site-packages (from selenium) (1.26.4)\n",
      "Note: you may need to restart the kernel to use updated packages.\n"
     ]
    }
   ],
   "source": [
    "pip install selenium"
   ]
  },
  {
   "cell_type": "code",
   "execution_count": 2,
   "metadata": {
    "scrolled": true
   },
   "outputs": [
    {
     "name": "stdout",
     "output_type": "stream",
     "text": [
      "Requirement already satisfied: webdriver-manager in c:\\users\\rainy.li\\anaconda3\\lib\\site-packages (3.4.2)\n",
      "Requirement already satisfied: requests in c:\\users\\rainy.li\\anaconda3\\lib\\site-packages (from webdriver-manager) (2.25.1)\n",
      "Requirement already satisfied: configparser in c:\\users\\rainy.li\\anaconda3\\lib\\site-packages (from webdriver-manager) (5.0.2)\n",
      "Requirement already satisfied: crayons in c:\\users\\rainy.li\\anaconda3\\lib\\site-packages (from webdriver-manager) (0.4.0)\n",
      "Requirement already satisfied: colorama in c:\\users\\rainy.li\\anaconda3\\lib\\site-packages (from crayons->webdriver-manager) (0.4.4)\n",
      "Requirement already satisfied: chardet<5,>=3.0.2 in c:\\users\\rainy.li\\anaconda3\\lib\\site-packages (from requests->webdriver-manager) (4.0.0)\n",
      "Requirement already satisfied: idna<3,>=2.5 in c:\\users\\rainy.li\\anaconda3\\lib\\site-packages (from requests->webdriver-manager) (2.10)\n",
      "Requirement already satisfied: urllib3<1.27,>=1.21.1 in c:\\users\\rainy.li\\anaconda3\\lib\\site-packages (from requests->webdriver-manager) (1.26.4)\n",
      "Requirement already satisfied: certifi>=2017.4.17 in c:\\users\\rainy.li\\anaconda3\\lib\\site-packages (from requests->webdriver-manager) (2020.12.5)\n",
      "Note: you may need to restart the kernel to use updated packages.\n"
     ]
    }
   ],
   "source": [
    "pip install webdriver-manager"
   ]
  },
  {
   "cell_type": "code",
   "execution_count": 3,
   "metadata": {},
   "outputs": [],
   "source": [
    "from selenium import webdriver\n",
    "from selenium.webdriver.common.by import By\n",
    "from selenium.webdriver.support.ui import WebDriverWait\n",
    "from selenium.webdriver.support import expected_conditions as EC\n",
    "from webdriver_manager.chrome import ChromeDriverManager\n",
    "import time\n",
    "import os"
   ]
  },
  {
   "cell_type": "code",
   "execution_count": 30,
   "metadata": {},
   "outputs": [
    {
     "name": "stderr",
     "output_type": "stream",
     "text": [
      "\n",
      "\n",
      "====== WebDriver manager ======\n",
      "Current google-chrome version is 90.0.4430\n",
      "Get LATEST driver version for 90.0.4430\n",
      "Driver [C:\\Users\\rainy.li\\.wdm\\drivers\\chromedriver\\win32\\90.0.4430.24\\chromedriver.exe] found in cache\n"
     ]
    },
    {
     "name": "stdout",
     "output_type": "stream",
     "text": [
      "url loaded\n",
      "logged in\n"
     ]
    }
   ],
   "source": [
    "browser = webdriver.Chrome(ChromeDriverManager().install())\n",
    "browser.get(\"https://sso.heroku.com/login\")\n",
    "print('url loaded')\n",
    "#login = browser.find_element_by_id(\"login\")\n",
    "#element = browser.find_element_by_link_text(\"Log in via SSO\")\n",
    "element = browser.find_element_by_xpath('//*[@id=\"team\"]')\n",
    "element.send_keys('dynatrace')\n",
    "browser.find_element_by_xpath('//*[@id=\"login\"]/form/button').click()\n",
    "##element = browser.find_element_by_xpath('//*[@id=\"i0116\"]')\n",
    "##element.send_keys('rainy.li@dynatrace.com')\n",
    "##browser.find_element_by_xpath('//*[@id=\"idSIButton9\"]').click()\n",
    "##element = browser.find_element_by_xpath('/html/body')\n",
    "##element.send_keys('Lovelry1314@')\n",
    "##browser.find_element_by_xpath('//*[@id=\"idSIButton9\"]').click()\n",
    "##browser.find_element_by_xpath('//*[@id=\"idSIButton9\"]').click()\n",
    "print('logged in')"
   ]
  },
  {
   "cell_type": "code",
   "execution_count": 31,
   "metadata": {},
   "outputs": [
    {
     "data": {
      "text/plain": [
       "0"
      ]
     },
     "execution_count": 31,
     "metadata": {},
     "output_type": "execute_result"
    }
   ],
   "source": [
    "os.system(\"heroku connect:info -a dynamartapp-stg\")"
   ]
  },
  {
   "cell_type": "code",
   "execution_count": 32,
   "metadata": {},
   "outputs": [
    {
     "data": {
      "text/plain": [
       "0"
      ]
     },
     "execution_count": 32,
     "metadata": {},
     "output_type": "execute_result"
    }
   ],
   "source": [
    "os.system(\"heroku connect:mapping:reload OpportunityLineItem -a dynamartapp-stg\")"
   ]
  },
  {
   "cell_type": "code",
   "execution_count": null,
   "metadata": {},
   "outputs": [],
   "source": [
    "os.system(\"start chrome https://connect.heroku.com/sync/7710bc0a-6610-41c2-a2af-f0ea655cddc2/mappings\")\n",
    "\n",
    "time.sleep(1)\n",
    "ReloadButton = browser.find_element_by_class_name('hk-dropdown-item w-100')\n",
    "reloadButton.click"
   ]
  },
  {
   "cell_type": "code",
   "execution_count": null,
   "metadata": {},
   "outputs": [],
   "source": [
    "ReloadButton = browser.find_element_by_class_name('hk-dropdown-item w-100')\n",
    "reloadButton.click"
   ]
  },
  {
   "cell_type": "code",
   "execution_count": null,
   "metadata": {},
   "outputs": [],
   "source": [
    "browser = webdriver.Chrome(ChromeDriverManager().install())"
   ]
  },
  {
   "cell_type": "code",
   "execution_count": null,
   "metadata": {},
   "outputs": [],
   "source": [
    "browser.get('https://sso.heroku.com')##/sync/7710bc0a-6610-41c2-a2af-f0ea655cddc2/mappings')"
   ]
  },
  {
   "cell_type": "code",
   "execution_count": null,
   "metadata": {},
   "outputs": [],
   "source": [
    "from selenium import webdriver\n",
    "from selenium.webdriver.common.by import By\n",
    "from selenium.webdriver.support.ui import WebDriverWait\n",
    "from selenium.webdriver.support import expected_conditions as EC\n",
    "from webdriver_manager.chrome import ChromeDriverManager\n",
    "import time\n",
    "\n",
    "usernameStr = 'rainy.li@dynatrace.com'\n",
    "passwordStr = 'Lovelry1314@'\n",
    "\n",
    "browser = webdriver.Chrome(ChromeDriverManager().install())\n",
    "browser.get('https://sso.heroku.com')\n",
    "\n",
    "username = browser.find_element_by_id('email')\n",
    "username.send_keys(usernameStr)\n",
    "\n",
    "password = browser.find_element_by_id('password')\n",
    "password.send_keys(passwordStr)\n",
    "\n",
    "time.sleep(2)\n",
    "\n",
    "signInButton = browser.find_element_by_class_name(\"btn btn-primary btn-lg btn-block\")\n",
    "signInButton.click"
   ]
  },
  {
   "cell_type": "code",
   "execution_count": null,
   "metadata": {},
   "outputs": [],
   "source": [
    "browser = os.system(\"start chrome https://connect.heroku.com/sync/7710bc0a-6610-41c2-a2af-f0ea655cddc2/mappings\")\n",
    "\n",
    "#time.sleep(1)\n",
    "#ReloadButton = browser.find_element_by_class_name('hk-dropdown-item w-100')\n",
    "#reloadButton.click"
   ]
  },
  {
   "cell_type": "code",
   "execution_count": null,
   "metadata": {},
   "outputs": [],
   "source": []
  }
 ],
 "metadata": {
  "kernelspec": {
   "display_name": "Python 3",
   "language": "python",
   "name": "python3"
  },
  "language_info": {
   "codemirror_mode": {
    "name": "ipython",
    "version": 3
   },
   "file_extension": ".py",
   "mimetype": "text/x-python",
   "name": "python",
   "nbconvert_exporter": "python",
   "pygments_lexer": "ipython3",
   "version": "3.8.8"
  }
 },
 "nbformat": 4,
 "nbformat_minor": 4
}
