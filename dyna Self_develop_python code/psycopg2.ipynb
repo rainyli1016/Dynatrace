{
 "cells": [
  {
   "cell_type": "code",
   "execution_count": 1,
   "metadata": {},
   "outputs": [
    {
     "name": "stdout",
     "output_type": "stream",
     "text": [
      "Requirement already satisfied: psycopg2 in c:\\users\\rainy.li\\anaconda3\\lib\\site-packages (2.8.6)\n",
      "Note: you may need to restart the kernel to use updated packages.\n"
     ]
    }
   ],
   "source": [
    "pip install psycopg2"
   ]
  },
  {
   "cell_type": "code",
   "execution_count": 2,
   "metadata": {},
   "outputs": [],
   "source": [
    "import psycopg2"
   ]
  },
  {
   "cell_type": "code",
   "execution_count": null,
   "metadata": {},
   "outputs": [],
   "source": [
    "conn = psycopg2.connect(\n",
    "    host = \"ec2-52-72-46-1.compute-1.amazonaws.com\",\n",
    "dbname = \"d5bsf666umklbm\",\n",
    "port = 5432,\n",
    "user = \"rainy_li\",\n",
    "password = \"p3a0570c5991c06a58632562d13a62dae7993dac5717a7f783ee4abc26073541f\",\n",
    "sslmode = \"require\")"
   ]
  },
  {
   "cell_type": "markdown",
   "metadata": {},
   "source": [
    "## config.py"
   ]
  },
  {
   "cell_type": "code",
   "execution_count": null,
   "metadata": {},
   "outputs": [],
   "source": []
  },
  {
   "cell_type": "code",
   "execution_count": null,
   "metadata": {},
   "outputs": [],
   "source": [
    "\"\"\"Load config from environment variables.\"\"\"\n",
    "from os import environ, path\n",
    "from dotenv import load_dotenv\n",
    "\n",
    "\n",
    "# Load variables from .env\n",
    "basedir = path.abspath(path.dirname(__file__))\n",
    "load_dotenv(path.join(basedir, '.env'))\n",
    "\n",
    "\n",
    "# Database config\n",
    "DATABASE_HOST = environ.get('DATABASE_HOST')\n",
    "DATABASE_USERNAME = environ.get('DATABASE_USERNAME')\n",
    "DATABASE_PASSWORD = environ.get('DATABASE_PASSWORD')\n",
    "DATABASE_PORT = environ.get('DATABASE_PORT')\n",
    "DATABASE_NAME = environ.get('DATABASE_NAME')\n",
    "\n",
    "# SQL queries\n",
    "SQL_QUERIES_FOLDER = 'sql'"
   ]
  },
  {
   "cell_type": "markdown",
   "metadata": {},
   "source": [
    "## db.py"
   ]
  },
  {
   "cell_type": "code",
   "execution_count": null,
   "metadata": {},
   "outputs": [],
   "source": [
    "class Database:\n",
    "    \"\"\"PostgreSQL Database class.\"\"\"\n",
    "\n",
    "    def __init__(\n",
    "            self,\n",
    "            DATABASE_HOST,\n",
    "            DATABASE_USERNAME,\n",
    "            DATABASE_PASSWORD,\n",
    "            DATABASE_PORT,\n",
    "            DATABASE_NAME\n",
    "        ):\n",
    "        self.host = DATABASE_HOST\n",
    "        self.username = DATABASE_USERNAME\n",
    "        self.password = DATABASE_PASSWORD\n",
    "        self.port = DATABASE_PORT\n",
    "        self.dbname = DATABASE_NAME\n",
    "        self.conn = None"
   ]
  },
  {
   "cell_type": "code",
   "execution_count": null,
   "metadata": {},
   "outputs": [],
   "source": [
    "\"\"\"Database client.\"\"\"\n",
    "from loguru import logger\n",
    "import psycopg2\n",
    "\n",
    "\n",
    "class Database:\n",
    "    \"\"\"PostgreSQL Database class.\"\"\"\n",
    "\n",
    "    def __init__(self, config):\n",
    "        self.host = config.DATABASE_HOST\n",
    "        self.username = config.DATABASE_USERNAME\n",
    "        self.password = config.DATABASE_PASSWORD\n",
    "        self.port = config.DATABASE_PORT\n",
    "        self.dbname = config.DATABASE_NAME\n",
    "        self.conn = None\n",
    "\n",
    "    def connect(self):\n",
    "        \"\"\"Connect to a Postgres database.\"\"\"\n",
    "        if self.conn is None:\n",
    "            try:\n",
    "                self.conn = psycopg2.connect(\n",
    "                    host=self.host,\n",
    "                    user=self.username,\n",
    "                    password=self.password,\n",
    "                    port=self.port,\n",
    "                    dbname=self.dbname\n",
    "                )\n",
    "            except psycopg2.DatabaseError as e:\n",
    "                LOGGER.error(e)\n",
    "                raise e\n",
    "            finally:\n",
    "                LOGGER.info('Connection opened successfully.')"
   ]
  },
  {
   "cell_type": "code",
   "execution_count": null,
   "metadata": {},
   "outputs": [],
   "source": []
  }
 ],
 "metadata": {
  "kernelspec": {
   "display_name": "Python 3",
   "language": "python",
   "name": "python3"
  },
  "language_info": {
   "codemirror_mode": {
    "name": "ipython",
    "version": 3
   },
   "file_extension": ".py",
   "mimetype": "text/x-python",
   "name": "python",
   "nbconvert_exporter": "python",
   "pygments_lexer": "ipython3",
   "version": "3.8.8"
  }
 },
 "nbformat": 4,
 "nbformat_minor": 4
}
