{
 "cells": [
  {
   "cell_type": "code",
   "execution_count": null,
   "id": "ca472adb",
   "metadata": {},
   "outputs": [],
   "source": [
    "pip install office365"
   ]
  },
  {
   "cell_type": "code",
   "execution_count": null,
   "id": "b7eaabf8",
   "metadata": {},
   "outputs": [],
   "source": [
    "pip install Office365-REST-Python-Client"
   ]
  },
  {
   "cell_type": "code",
   "execution_count": null,
   "id": "2c9251f3",
   "metadata": {},
   "outputs": [],
   "source": [
    "pip install psycopg2"
   ]
  },
  {
   "cell_type": "code",
   "execution_count": null,
   "id": "ce07e9a7",
   "metadata": {},
   "outputs": [],
   "source": [
    "pip install sharepy"
   ]
  },
  {
   "cell_type": "code",
   "execution_count": 1,
   "id": "97882a67",
   "metadata": {},
   "outputs": [],
   "source": [
    "import pandas as pd\n",
    "from pandas.api.types import infer_dtype\n",
    "import psycopg2\n",
    "from sqlalchemy import create_engine\n",
    "from pandas.api.types import infer_dtype\n",
    "import numpy as np\n",
    "import requests\n",
    "from openpyxl import load_workbook\n",
    "import datetime as dt\n",
    "from office365.runtime.auth.authentication_context import AuthenticationContext\n",
    "from office365.sharepoint.client_context import ClientContext\n",
    "from office365.sharepoint.files.file import File \n",
    "import io\n",
    "from shareplum import Site\n",
    "from shareplum import Office365\n",
    "from shareplum.site import Version"
   ]
  },
  {
   "cell_type": "code",
   "execution_count": 2,
   "id": "d5e34826",
   "metadata": {},
   "outputs": [],
   "source": [
    "URL = 'https://dynatrace-my.sharepoint.com'\n",
    "url_shrpt = 'https://dynatrace-my.sharepoint.com/personal/rain_harrigan_dynatrace_com'\n",
    "username_shrpt = 'rainy.li@dynatrace.com'\n",
    "password_shrpt = 'Lovelry1314!'\n",
    "folder_url_shrpt = '/personal/rain_harrigan_dynatrace_com/Documents/Desktop/BusSysBI/Access%20Replatform/manualadj/account/ready'\n",
    "target_folder_url_shrpt = '/personal/rain_harrigan_dynatrace_com/Documents/Desktop/BusSysBI/Access%20Replatform/manualadj/account/succeeded'"
   ]
  },
  {
   "cell_type": "code",
   "execution_count": 3,
   "id": "e8d0910b",
   "metadata": {},
   "outputs": [
    {
     "name": "stdout",
     "output_type": "stream",
     "text": [
      "Authenticated into sharepoint as:  Harrigan, Rain\n"
     ]
    }
   ],
   "source": [
    "ctx_auth = AuthenticationContext(url_shrpt)\n",
    "if ctx_auth.acquire_token_for_user(username_shrpt, password_shrpt):\n",
    "    ctx = ClientContext(url_shrpt, ctx_auth)\n",
    "    web = ctx.web\n",
    "    ctx.load(web)\n",
    "    ctx.execute_query()\n",
    "    print('Authenticated into sharepoint as: ',web.properties['Title'])\n",
    "\n",
    "else:\n",
    "    print(ctx_auth.get_last_error())"
   ]
  },
  {
   "cell_type": "code",
   "execution_count": 4,
   "id": "9b3a3f20",
   "metadata": {},
   "outputs": [],
   "source": [
    "folder = ctx.web.get_folder_by_server_relative_url(folder_url_shrpt)\n",
    "fold_names = []\n",
    "sub_folders = folder.files #Replace files with folders for getting list of folders\n",
    "ctx.load(sub_folders)\n",
    "ctx.execute_query()"
   ]
  },
  {
   "cell_type": "code",
   "execution_count": 5,
   "id": "8b46f7ac",
   "metadata": {},
   "outputs": [],
   "source": [
    "file_url_shrpt = '/personal/rain_harrigan_dynatrace_com/Documents/Desktop/BusSysBI/Access%20Replatform/manualadj/account/ready/data.csv'"
   ]
  },
  {
   "cell_type": "code",
   "execution_count": 6,
   "id": "cbfaca49",
   "metadata": {},
   "outputs": [
    {
     "data": {
      "text/html": [
       "<div>\n",
       "<style scoped>\n",
       "    .dataframe tbody tr th:only-of-type {\n",
       "        vertical-align: middle;\n",
       "    }\n",
       "\n",
       "    .dataframe tbody tr th {\n",
       "        vertical-align: top;\n",
       "    }\n",
       "\n",
       "    .dataframe thead th {\n",
       "        text-align: right;\n",
       "    }\n",
       "</style>\n",
       "<table border=\"1\" class=\"dataframe\">\n",
       "  <thead>\n",
       "    <tr style=\"text-align: right;\">\n",
       "      <th></th>\n",
       "      <th>AccountNS_SK</th>\n",
       "      <th>Account Number</th>\n",
       "      <th>Account</th>\n",
       "      <th>Account Type</th>\n",
       "      <th>ProductType_FK</th>\n",
       "      <th>Product Type</th>\n",
       "      <th>Product Type Rollup1</th>\n",
       "      <th>Product Type Rollup2</th>\n",
       "      <th>Recurring</th>\n",
       "      <th>SaaS v Mgd</th>\n",
       "    </tr>\n",
       "  </thead>\n",
       "  <tbody>\n",
       "    <tr>\n",
       "      <th>0</th>\n",
       "      <td>249</td>\n",
       "      <td>3501</td>\n",
       "      <td>Subscription - New</td>\n",
       "      <td>Income</td>\n",
       "      <td>5</td>\n",
       "      <td>SaaS - New</td>\n",
       "      <td>SaaS</td>\n",
       "      <td>SaaS</td>\n",
       "      <td>True</td>\n",
       "      <td>SaaS</td>\n",
       "    </tr>\n",
       "    <tr>\n",
       "      <th>1</th>\n",
       "      <td>17104</td>\n",
       "      <td>3501-01</td>\n",
       "      <td>Subscription - New : Subscription - Consumptio...</td>\n",
       "      <td>Income</td>\n",
       "      <td>12</td>\n",
       "      <td>SaaS - New</td>\n",
       "      <td>SaaS</td>\n",
       "      <td>SaaS</td>\n",
       "      <td>True</td>\n",
       "      <td>SaaS</td>\n",
       "    </tr>\n",
       "  </tbody>\n",
       "</table>\n",
       "</div>"
      ],
      "text/plain": [
       "   AccountNS_SK Account Number  \\\n",
       "0           249           3501   \n",
       "1         17104        3501-01   \n",
       "\n",
       "                                             Account Account Type  \\\n",
       "0                                 Subscription - New       Income   \n",
       "1  Subscription - New : Subscription - Consumptio...       Income   \n",
       "\n",
       "   ProductType_FK Product Type Product Type Rollup1 Product Type Rollup2  \\\n",
       "0               5   SaaS - New                 SaaS                 SaaS   \n",
       "1              12   SaaS - New                 SaaS                 SaaS   \n",
       "\n",
       "   Recurring SaaS v Mgd  \n",
       "0       True       SaaS  \n",
       "1       True       SaaS  "
      ]
     },
     "execution_count": 6,
     "metadata": {},
     "output_type": "execute_result"
    }
   ],
   "source": [
    "response = File.open_binary(ctx, file_url_shrpt)\n",
    "bytes_file_obj = io.BytesIO()\n",
    "bytes_file_obj.write(response.content)\n",
    "bytes_file_obj.seek(0)\n",
    "df = pd.read_csv(bytes_file_obj)\n",
    "df"
   ]
  },
  {
   "cell_type": "code",
   "execution_count": 7,
   "id": "ef3bd200",
   "metadata": {},
   "outputs": [],
   "source": [
    "host = \"ec2-54-161-114-24.compute-1.amazonaws.com\"\n",
    "dbname = \"d5lblgv4vjgptk\"\n",
    "port = 5432\n",
    "user = \"ua8hvj8ta2fqn7\"\n",
    "password = \"p587b497a2f1d7bc7b136188eaa840ff3fc5b1180e5c6b47c3413f80915330eb4\"\n",
    "sslmode = \"require\"\n",
    "postgres_str = f'postgresql://{user}:{password}@{host}:{port}/{dbname}'\n",
    "conn = psycopg2.connect(postgres_str)\n",
    "cnx = create_engine(postgres_str)\n",
    "conn.autocommit = True\n",
    "cur = conn.cursor()"
   ]
  },
  {
   "cell_type": "code",
   "execution_count": 8,
   "id": "eee944dc",
   "metadata": {},
   "outputs": [],
   "source": [
    "cur.execute ( \"truncate table datamart_arr.dimaccount_adjnewload\" )\n",
    "df.to_sql ( 'dimaccount_adjnewload', cnx, schema='datamart_arr', method='multi', if_exists='append',index=False,chunksize=5000)"
   ]
  },
  {
   "cell_type": "code",
   "execution_count": 9,
   "id": "7db94d1f",
   "metadata": {},
   "outputs": [],
   "source": [
    "cur.execute(\"CALL datamart_arr.sp_dimaccount_updatefrom_adjnewload();\")\n",
    "conn.commit()"
   ]
  },
  {
   "cell_type": "code",
   "execution_count": 10,
   "id": "e49046fe",
   "metadata": {},
   "outputs": [],
   "source": [
    "target_file_url_shrpt = '/personal/rain_harrigan_dynatrace_com/Documents/Desktop/BusSysBI/Access%20Replatform/manualadj/account/succeeded/data_test_rainy.csv'"
   ]
  },
  {
   "cell_type": "code",
   "execution_count": 11,
   "id": "712b4af4",
   "metadata": {},
   "outputs": [],
   "source": [
    "ctx_auth = AuthenticationContext(url_shrpt)\n",
    "if ctx_auth.acquire_token_for_user(username_shrpt, password_shrpt):\n",
    "    ctx = ClientContext(url_shrpt, ctx_auth)\n",
    "    source_file = ctx.web.get_file_by_server_relative_url(file_url_shrpt)\n",
    "    source_file.moveto(new_relative_url=target_file_url_shrpt, flag=1)\n",
    "    ctx.execute_query()"
   ]
  },
  {
   "cell_type": "code",
   "execution_count": null,
   "id": "2a5b082a",
   "metadata": {},
   "outputs": [],
   "source": []
  }
 ],
 "metadata": {
  "kernelspec": {
   "display_name": "Python 3",
   "language": "python",
   "name": "python3"
  },
  "language_info": {
   "codemirror_mode": {
    "name": "ipython",
    "version": 3
   },
   "file_extension": ".py",
   "mimetype": "text/x-python",
   "name": "python",
   "nbconvert_exporter": "python",
   "pygments_lexer": "ipython3",
   "version": "3.8.8"
  }
 },
 "nbformat": 4,
 "nbformat_minor": 5
}
