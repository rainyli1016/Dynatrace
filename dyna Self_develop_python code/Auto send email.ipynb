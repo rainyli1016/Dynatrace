{
 "cells": [
  {
   "cell_type": "code",
   "execution_count": 1,
   "id": "67c16d65",
   "metadata": {},
   "outputs": [],
   "source": [
    "import smtplib"
   ]
  },
  {
   "cell_type": "code",
   "execution_count": 2,
   "id": "7302b996",
   "metadata": {},
   "outputs": [],
   "source": [
    "gmail_user = 'bi.dynatrace@gmail.com'\n",
    "gmail_password = 'biteamisthebest!'"
   ]
  },
  {
   "cell_type": "code",
   "execution_count": 3,
   "id": "810f0949",
   "metadata": {},
   "outputs": [],
   "source": [
    "s = smtplib.SMTP('smtp.gmail.com', 587)"
   ]
  },
  {
   "cell_type": "code",
   "execution_count": 4,
   "id": "4ebe340d",
   "metadata": {},
   "outputs": [
    {
     "data": {
      "text/plain": [
       "(220, b'2.0.0 Ready to start TLS')"
      ]
     },
     "execution_count": 4,
     "metadata": {},
     "output_type": "execute_result"
    }
   ],
   "source": [
    "s.starttls()"
   ]
  },
  {
   "cell_type": "code",
   "execution_count": 5,
   "id": "00706d73",
   "metadata": {},
   "outputs": [],
   "source": [
    "FROM = 'bi.dynatrace@gmail.com'\n",
    "TO = [\"rainy.li@dynatrace.com\"]\n",
    "SUBJECT = \"Zendesk Loading Error!\"\n",
    "TEXT = \"Zendesk loading failed.\"\n",
    "message = \"\"\"\\\n",
    "From: %s\n",
    "To: %s\n",
    "Subject: %s\n",
    "\n",
    "%s\n",
    "\"\"\" % (FROM, \", \".join(TO), SUBJECT, TEXT)"
   ]
  },
  {
   "cell_type": "code",
   "execution_count": 6,
   "id": "434d9b14",
   "metadata": {},
   "outputs": [
    {
     "data": {
      "text/plain": [
       "(235, b'2.7.0 Accepted')"
      ]
     },
     "execution_count": 6,
     "metadata": {},
     "output_type": "execute_result"
    }
   ],
   "source": [
    "s.login(gmail_user, gmail_password)"
   ]
  },
  {
   "cell_type": "code",
   "execution_count": 7,
   "id": "077bd8c0",
   "metadata": {},
   "outputs": [
    {
     "data": {
      "text/plain": [
       "{}"
      ]
     },
     "execution_count": 7,
     "metadata": {},
     "output_type": "execute_result"
    }
   ],
   "source": [
    "s.sendmail(\"gmail_user\", \"rainy.li@dynatrace.com\",message)"
   ]
  },
  {
   "cell_type": "code",
   "execution_count": 8,
   "id": "5bf690d4",
   "metadata": {},
   "outputs": [
    {
     "data": {
      "text/plain": [
       "(221, b'2.0.0 closing connection x2sm6821678qtr.6 - gsmtp')"
      ]
     },
     "execution_count": 8,
     "metadata": {},
     "output_type": "execute_result"
    }
   ],
   "source": [
    "s.quit()"
   ]
  },
  {
   "cell_type": "code",
   "execution_count": null,
   "id": "6a9eebc7",
   "metadata": {},
   "outputs": [],
   "source": []
  }
 ],
 "metadata": {
  "kernelspec": {
   "display_name": "Python 3",
   "language": "python",
   "name": "python3"
  },
  "language_info": {
   "codemirror_mode": {
    "name": "ipython",
    "version": 3
   },
   "file_extension": ".py",
   "mimetype": "text/x-python",
   "name": "python",
   "nbconvert_exporter": "python",
   "pygments_lexer": "ipython3",
   "version": "3.8.8"
  }
 },
 "nbformat": 4,
 "nbformat_minor": 5
}
