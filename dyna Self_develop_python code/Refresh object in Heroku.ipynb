{
 "cells": [
  {
   "cell_type": "code",
   "execution_count": 1,
   "metadata": {},
   "outputs": [
    {
     "name": "stdout",
     "output_type": "stream",
     "text": [
      "Requirement already satisfied: heroku3 in c:\\users\\rainy.li\\anaconda3\\lib\\site-packages (4.2.3)\n",
      "Requirement already satisfied: python-dateutil>=2.6.0 in c:\\users\\rainy.li\\anaconda3\\lib\\site-packages (from heroku3) (2.8.1)\n",
      "Requirement already satisfied: requests>=1.2.3 in c:\\users\\rainy.li\\anaconda3\\lib\\site-packages (from heroku3) (2.25.1)\n",
      "Requirement already satisfied: six>=1.5 in c:\\users\\rainy.li\\anaconda3\\lib\\site-packages (from python-dateutil>=2.6.0->heroku3) (1.15.0)\n",
      "Requirement already satisfied: idna<3,>=2.5 in c:\\users\\rainy.li\\anaconda3\\lib\\site-packages (from requests>=1.2.3->heroku3) (2.10)\n",
      "Requirement already satisfied: urllib3<1.27,>=1.21.1 in c:\\users\\rainy.li\\anaconda3\\lib\\site-packages (from requests>=1.2.3->heroku3) (1.26.4)\n",
      "Requirement already satisfied: certifi>=2017.4.17 in c:\\users\\rainy.li\\anaconda3\\lib\\site-packages (from requests>=1.2.3->heroku3) (2020.12.5)\n",
      "Requirement already satisfied: chardet<5,>=3.0.2 in c:\\users\\rainy.li\\anaconda3\\lib\\site-packages (from requests>=1.2.3->heroku3) (4.0.0)\n",
      "Note: you may need to restart the kernel to use updated packages.\n"
     ]
    }
   ],
   "source": [
    "pip install heroku3"
   ]
  },
  {
   "cell_type": "code",
   "execution_count": 2,
   "metadata": {},
   "outputs": [
    {
     "name": "stdout",
     "output_type": "stream",
     "text": [
      "Requirement already satisfied: adal in c:\\users\\rainy.li\\anaconda3\\lib\\site-packages (1.2.7)\n",
      "Requirement already satisfied: python-dateutil<3,>=2.1.0 in c:\\users\\rainy.li\\anaconda3\\lib\\site-packages (from adal) (2.8.1)\n",
      "Requirement already satisfied: requests<3,>=2.0.0 in c:\\users\\rainy.li\\anaconda3\\lib\\site-packages (from adal) (2.25.1)\n",
      "Requirement already satisfied: PyJWT<3,>=1.0.0 in c:\\users\\rainy.li\\anaconda3\\lib\\site-packages (from adal) (2.1.0)\n",
      "Requirement already satisfied: cryptography>=1.1.0 in c:\\users\\rainy.li\\anaconda3\\lib\\site-packages (from adal) (3.4.7)\n",
      "Requirement already satisfied: cffi>=1.12 in c:\\users\\rainy.li\\anaconda3\\lib\\site-packages (from cryptography>=1.1.0->adal) (1.14.5)\n",
      "Requirement already satisfied: pycparser in c:\\users\\rainy.li\\anaconda3\\lib\\site-packages (from cffi>=1.12->cryptography>=1.1.0->adal) (2.20)\n",
      "Requirement already satisfied: six>=1.5 in c:\\users\\rainy.li\\anaconda3\\lib\\site-packages (from python-dateutil<3,>=2.1.0->adal) (1.15.0)\n",
      "Requirement already satisfied: idna<3,>=2.5 in c:\\users\\rainy.li\\anaconda3\\lib\\site-packages (from requests<3,>=2.0.0->adal) (2.10)\n",
      "Requirement already satisfied: chardet<5,>=3.0.2 in c:\\users\\rainy.li\\anaconda3\\lib\\site-packages (from requests<3,>=2.0.0->adal) (4.0.0)\n",
      "Requirement already satisfied: urllib3<1.27,>=1.21.1 in c:\\users\\rainy.li\\anaconda3\\lib\\site-packages (from requests<3,>=2.0.0->adal) (1.26.4)\n",
      "Requirement already satisfied: certifi>=2017.4.17 in c:\\users\\rainy.li\\anaconda3\\lib\\site-packages (from requests<3,>=2.0.0->adal) (2020.12.5)\n",
      "Note: you may need to restart the kernel to use updated packages.\n"
     ]
    }
   ],
   "source": [
    "pip install adal"
   ]
  },
  {
   "cell_type": "code",
   "execution_count": 3,
   "metadata": {},
   "outputs": [
    {
     "name": "stdout",
     "output_type": "stream",
     "text": [
      "Requirement already satisfied: psycopg2 in c:\\users\\rainy.li\\anaconda3\\lib\\site-packages (2.8.6)\n",
      "Note: you may need to restart the kernel to use updated packages.\n"
     ]
    }
   ],
   "source": [
    "pip install psycopg2"
   ]
  },
  {
   "cell_type": "code",
   "execution_count": 4,
   "metadata": {},
   "outputs": [],
   "source": [
    "import adal\n",
    "import requests\n",
    "import json\n",
    "import pandas"
   ]
  },
  {
   "cell_type": "code",
   "execution_count": 5,
   "metadata": {},
   "outputs": [],
   "source": [
    "import os\n",
    "import psycopg2\n",
    "import heroku3"
   ]
  },
  {
   "cell_type": "code",
   "execution_count": null,
   "metadata": {},
   "outputs": [],
   "source": [
    "###os.system(\"heroku login\")"
   ]
  },
  {
   "cell_type": "code",
   "execution_count": null,
   "metadata": {},
   "outputs": [],
   "source": [
    "###os.system(\"heroku connect:info -a dynamartapp-dev\")\n",
    "###os.system(\"heroku connect:mapping:reload Account -a dynamartapp-dev\")"
   ]
  },
  {
   "cell_type": "code",
   "execution_count": 7,
   "metadata": {},
   "outputs": [
    {
     "ename": "TypeError",
     "evalue": "acquire_token_with_username_password() missing 2 required positional arguments: 'password' and 'client_id'",
     "output_type": "error",
     "traceback": [
      "\u001b[1;31m---------------------------------------------------------------------------\u001b[0m",
      "\u001b[1;31mTypeError\u001b[0m                                 Traceback (most recent call last)",
      "\u001b[1;32m<ipython-input-7-c1a0d5b7e306>\u001b[0m in \u001b[0;36m<module>\u001b[1;34m\u001b[0m\n\u001b[0;32m      6\u001b[0m                                     \u001b[0mvalidate_authority\u001b[0m\u001b[1;33m=\u001b[0m\u001b[1;32mTrue\u001b[0m\u001b[1;33m,\u001b[0m\u001b[1;33m\u001b[0m\u001b[1;33m\u001b[0m\u001b[0m\n\u001b[0;32m      7\u001b[0m                                     api_version=None)\n\u001b[1;32m----> 8\u001b[1;33m token = context.acquire_token_with_username_password(resource=resource_url,\n\u001b[0m\u001b[0;32m      9\u001b[0m                                                      username=username)\n\u001b[0;32m     10\u001b[0m \u001b[1;31m##access_token = token.get('3a8035ef-0068-457a-bbf0-390de0b30654')\u001b[0m\u001b[1;33m\u001b[0m\u001b[1;33m\u001b[0m\u001b[1;33m\u001b[0m\u001b[0m\n",
      "\u001b[1;31mTypeError\u001b[0m: acquire_token_with_username_password() missing 2 required positional arguments: 'password' and 'client_id'"
     ]
    }
   ],
   "source": [
    "authority_url = 'https://sso.heroku.com/login'\n",
    "resource_url = 'https://connect.heroku.com/'\n",
    "username = 'dynatrace'\n",
    "##password = 'Lovelry1314@'\n",
    "context = adal.AuthenticationContext(authority=authority_url,\n",
    "                                    validate_authority=True,\n",
    "                                    api_version=None)\n",
    "token = context.acquire_token_with_username_password(resource=resource_url,\n",
    "                                                     username=username)\n",
    "access_token = token.get('3a8035ef-0068-457a-bbf0-390de0b30654')"
   ]
  },
  {
   "cell_type": "code",
   "execution_count": null,
   "metadata": {},
   "outputs": [],
   "source": [
    "access_token = token.get('04897eca-cee2-4636-a56a-4d10709ba3fb')\n",
    "groups_request_url = 'https://connect.heroku.com/sync/7710bc0a-6610-41c2-a2af-f0ea655cddc2/mappings/39435fb9-60b4-4298-b666-207486e20694'\n",
    "header = {'Authorization': f'Bearer {access_token}'}\n",
    "groups_request = json.loads(requests.get(url=groups_request_url, headers=header).content)\n",
    "groups = [d['id'] for d in groups_request['value']]\n",
    "for group in groups:\n",
    "    datasets_request_url = 'https://connect.heroku.com/sync/7710bc0a-6610-41c2-a2af-f0ea655cddc2/mappings/39435fb9-60b4-4298-b666-207486e20694' + group + '/datasets'\n",
    "    datasets_request = json.loads(requests.get(url=datasets_request_url, headers=header).content)\n",
    "    datasets = [d['id'] for d in datasets_request['value']]\n",
    "    for dataset in datasets:\n",
    "        refresh_url = 'https://connect.heroku.com/sync/7710bc0a-6610-41c2-a2af-f0ea655cddc2/mappings/39435fb9-60b4-4298-b666-207486e20694' + group + '/datasets/' + dataset + '/refreshes'\n",
    "        r = requests.post(url=refresh_url, headers=header)"
   ]
  },
  {
   "cell_type": "code",
   "execution_count": null,
   "metadata": {},
   "outputs": [],
   "source": []
  }
 ],
 "metadata": {
  "kernelspec": {
   "display_name": "Python 3",
   "language": "python",
   "name": "python3"
  },
  "language_info": {
   "codemirror_mode": {
    "name": "ipython",
    "version": 3
   },
   "file_extension": ".py",
   "mimetype": "text/x-python",
   "name": "python",
   "nbconvert_exporter": "python",
   "pygments_lexer": "ipython3",
   "version": "3.8.8"
  }
 },
 "nbformat": 4,
 "nbformat_minor": 4
}
